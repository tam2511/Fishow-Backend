{
 "cells": [
  {
   "cell_type": "code",
   "execution_count": 17,
   "metadata": {},
   "outputs": [],
   "source": [
    "import requests\n",
    "import json\n",
    "from pytils.translit import slugify\n",
    "import requests\n",
    "from tqdm.notebook import tqdm\n",
    "import pandas as pd\n",
    "from json import load, loads, dumps\n",
    "import re"
   ]
  },
  {
   "cell_type": "code",
   "execution_count": 19,
   "metadata": {},
   "outputs": [
    {
     "data": {
      "application/vnd.jupyter.widget-view+json": {
       "model_id": "7f99af2c19b84cff8aa88fcbdbd00031",
       "version_major": 2,
       "version_minor": 0
      },
      "text/plain": [
       "HBox(children=(FloatProgress(value=0.0, max=82.0), HTML(value='')))"
      ]
     },
     "metadata": {},
     "output_type": "display_data"
    },
    {
     "name": "stdout",
     "output_type": "stream",
     "text": [
      "\n"
     ]
    }
   ],
   "source": [
    "data_path = \"regions_v3.csv\"\n",
    "\n",
    "data = pd.read_csv(data_path).values\n",
    "waterplaces_map = {}\n",
    "for i in tqdm(range(len(data))):\n",
    "    row = {\n",
    "        'name': data[i][0],\n",
    "        'stat': data[i][1],\n",
    "        'sities': data[i][2],\n",
    "    }\n",
    "    waterplaces = loads(data[i][3])\n",
    "    row['stat'] = loads(row['stat'])\n",
    "    row['stat']['main'] = {fish.capitalize(): row['stat']['main'][fish] for fish in row['stat']['main']}\n",
    "    row['stat'] = dumps(row['stat'])\n",
    "    r = requests.post('https://back.fishow.ru/api/region/', json=row)\n",
    "    slug = r.json()['slug']\n",
    "    for waterplace in waterplaces:\n",
    "        key = (waterplace['type'], waterplace['waterplace'])\n",
    "        if not key in waterplaces_map:\n",
    "            waterplaces_map[key] = []\n",
    "        waterplaces_map[key].append(slug)"
   ]
  },
  {
   "cell_type": "code",
   "execution_count": 23,
   "metadata": {},
   "outputs": [
    {
     "data": {
      "application/vnd.jupyter.widget-view+json": {
       "model_id": "2a1d3124f84c4f2393a44d9694b80fe0",
       "version_major": 2,
       "version_minor": 0
      },
      "text/plain": [
       "HBox(children=(FloatProgress(value=0.0, max=3842.0), HTML(value='')))"
      ]
     },
     "metadata": {},
     "output_type": "display_data"
    },
    {
     "name": "stdout",
     "output_type": "stream",
     "text": [
      "\n"
     ]
    }
   ],
   "source": [
    "data_path = \"waterplaces_v6.csv\"\n",
    "\n",
    "data = pd.read_csv(data_path).values\n",
    "\n",
    "for i in tqdm(range(len(data))):\n",
    "    key = (data[i][1], data[i][0])\n",
    "    slugs = []\n",
    "    if key in waterplaces_map:\n",
    "        slugs = waterplaces_map[key]\n",
    "    row = {\n",
    "        'blogs': [],\n",
    "        'news': [],\n",
    "        'name': data[i][0],\n",
    "        'type': data[i][1],\n",
    "        'stat': data[i][2] if not pd.isnull(data[i][2]) else \"{}\",\n",
    "        'regions': slugs,\n",
    "        'fish': data[i][3]\n",
    "    }\n",
    "#     print(slug)\n",
    "    r = requests.post('https://back.fishow.ru/api/waterplace_nature/', json=row)"
   ]
  },
  {
   "cell_type": "code",
   "execution_count": null,
   "metadata": {},
   "outputs": [],
   "source": []
  }
 ],
 "metadata": {
  "kernelspec": {
   "display_name": "Python 3",
   "language": "python",
   "name": "python3"
  },
  "language_info": {
   "codemirror_mode": {
    "name": "ipython",
    "version": 3
   },
   "file_extension": ".py",
   "mimetype": "text/x-python",
   "name": "python",
   "nbconvert_exporter": "python",
   "pygments_lexer": "ipython3",
   "version": "3.7.4"
  }
 },
 "nbformat": 4,
 "nbformat_minor": 2
}
