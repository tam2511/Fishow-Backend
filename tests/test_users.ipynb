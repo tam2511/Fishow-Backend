{
 "cells": [
  {
   "cell_type": "code",
   "execution_count": 7,
   "metadata": {},
   "outputs": [],
   "source": [
    "import requests\n",
    "import matplotlib.pyplot as plt\n",
    "from json import dumps\n",
    "from tqdm.notebook import tqdm\n",
    "from time import time\n",
    "from random import choice, randint"
   ]
  },
  {
   "cell_type": "markdown",
   "metadata": {},
   "source": [
    "# Получаем информацию о юзере (своем)"
   ]
  },
  {
   "cell_type": "code",
   "execution_count": 2,
   "metadata": {},
   "outputs": [
    {
     "name": "stdout",
     "output_type": "stream",
     "text": [
      "status code: 403\n",
      "json response:\n",
      "======================================\n",
      "{\n",
      "    \"detail\": \"Invalid username/password.\"\n",
      "}\n"
     ]
    }
   ],
   "source": [
    "username = 'tam2511'\n",
    "password = '081099asd'\n",
    "\n",
    "r = requests.get('https://back.fishow.ru/api/user/', auth=(username, password))\n",
    "print('status code: {}'.format(r.status_code))\n",
    "print('json response:')\n",
    "print('======================================')\n",
    "print(dumps(r.json(), indent=4))"
   ]
  },
  {
   "cell_type": "markdown",
   "metadata": {},
   "source": [
    "# Получаем список всех юзеров"
   ]
  },
  {
   "cell_type": "code",
   "execution_count": 3,
   "metadata": {},
   "outputs": [
    {
     "name": "stdout",
     "output_type": "stream",
     "text": [
      "status code: 500\n"
     ]
    }
   ],
   "source": [
    "r = requests.get('https://back.fishow.ru/api/user_all/', auth=(username, password))\n",
    "print('status code: {}'.format(r.status_code))\n",
    "# print('json response:')\n",
    "# print('======================================')\n",
    "# print(dumps(r.json(), indent=4))"
   ]
  },
  {
   "cell_type": "markdown",
   "metadata": {},
   "source": [
    "# Получаем список понравившихся статей юзера"
   ]
  },
  {
   "cell_type": "code",
   "execution_count": 4,
   "metadata": {},
   "outputs": [
    {
     "name": "stdout",
     "output_type": "stream",
     "text": [
      "status code: 200\n",
      "json response:\n",
      "======================================\n",
      "{\n",
      "    \"count\": 1,\n",
      "    \"next\": null,\n",
      "    \"previous\": null,\n",
      "    \"results\": [\n",
      "        {\n",
      "            \"id\": 7,\n",
      "            \"author\": \"damir2\",\n",
      "            \"created_at\": \"27.02.21 19:53\",\n",
      "            \"likes_count\": 2,\n",
      "            \"dislikes_count\": 0,\n",
      "            \"user_has_votedUp\": true,\n",
      "            \"user_has_votedDown\": false,\n",
      "            \"user_saved\": false,\n",
      "            \"slug\": \"sadasd-qzqs5a\",\n",
      "            \"comments_count\": 1,\n",
      "            \"user_has_commented\": false,\n",
      "            \"time_from_creations\": \"1\\u00a0week\",\n",
      "            \"user_views\": 3,\n",
      "            \"is_author\": false,\n",
      "            \"title\": \"sadasd\",\n",
      "            \"content\": \"{\\\"blocks\\\":[[{\\\"type\\\":\\\"text\\\",\\\"body\\\":\\\"Lorem ipsum dolor sit amet, consectetur adipiscing elit, sed do eiusmod tempor incididunt ut labore et dolore magna aliqua. Tortor at auctor urna nunc id cursus. Sodales neque sodales ut etiam sit amet. Quis hendrerit dolor magna eget est lorem ipsum dolor. Mauris a diam maecenas sed enim ut sem. Maecenas sed enim ut sem viverra aliquet eget sit. Tempor nec feugiat nisl pretium fusce id velit. Aliquam sem fringilla ut morbi. Volutpat commodo sed egestas egestas fringilla phasellus faucibus scelerisque. Mollis aliquam ut porttitor leo a. Ipsum consequat nisl vel pretium lectus quam id. Sed risus ultricies tristique nulla aliquet enim tortor. Semper quis lectus nulla at volutpat diam ut.\\\\n\\\\nGravida quis blandit turpis cursus. Massa massa ultricies mi quis hendrerit dolor magna. Tincidunt eget nullam non nisi est. Et ligula ullamcorper malesuada proin libero nunc consequat. Id aliquet lectus proin nibh nisl. Viverra nam libero justo laoreet sit. Viverra accumsan in nisl nisi scelerisque eu ultrices vitae auctor. Venenatis urna cursus eget nunc scelerisque viverra mauris in aliquam. Vulputate odio ut enim blandit volutpat maecenas volutpat blandit. Et netus et malesuada fames ac turpis egestas integer. Vel facilisis volutpat est velit egestas dui id. Id cursus metus aliquam eleifend mi in. Sed risus ultricies tristique nulla aliquet enim. Id diam maecenas ultricies mi eget mauris pharetra. At volutpat diam ut venenatis tellus in. In aliquam sem fringilla ut morbi. Habitasse platea dictumst quisque sagittis. Egestas integer eget aliquet nibh praesent. Nec feugiat nisl pretium fusce.\\\\n\\\\nAuctor neque vitae tempus quam pellentesque nec nam aliquam sem. Nibh venenatis cras sed felis. Eget mi proin sed libero enim. Sagittis orci a scelerisque purus semper eget duis at. Platea dictumst vestibulum rhoncus est pellentesque elit ullamcorper dignissim. Ultricies integer quis auctor elit sed vulputate mi sit. Velit sed ullamcorper morbi tincidunt ornare massa eget egestas purus. Id interdum velit laoreet id donec ultrices tincidunt arcu non. At urna condimentum mattis pellentesque id nibh tortor id. Volutpat maecenas volutpat blandit aliquam etiam. Purus viverra accumsan in nisl. Pellentesque eu tincidunt tortor aliquam nulla facilisi cras fermentum odio. Donec massa sapien faucibus et molestie ac. Massa tempor nec feugiat nisl pretium. Cras semper auctor neque vitae tempus quam pellentesque. Aliquet porttitor lacus luctus accumsan tortor posuere ac ut consequat. Lobortis feugiat vivamus at augue eget arcu dictum varius. In tellus integer feugiat scelerisque varius. Sed arcu non odio euismod lacinia.\\\\n\\\\nUltricies mi eget mauris pharetra. Fermentum dui faucibus in ornare. Dis parturient montes nascetur ridiculus mus. Dis parturient montes nascetur ridiculus mus. Morbi non arcu risus quis varius quam quisque id. Nullam vehicula ipsum a arcu cursus vitae congue mauris rhoncus. Curabitur gravida arcu ac tortor dignissim. Malesuada pellentesque elit eget gravida cum sociis natoque penatibus et. Nullam vehicula ipsum a arcu cursus. Turpis cursus in hac habitasse platea dictumst quisque sagittis. Ullamcorper velit sed ullamcorper morbi tincidunt. Cursus risus at ultrices mi tempus imperdiet nulla. Imperdiet dui accumsan sit amet.\\\\n\\\\nUrna nunc id cursus metus aliquam eleifend mi in nulla. Euismod nisi porta lorem mollis. Nulla porttitor massa id neque aliquam vestibulum morbi blandit cursus. Amet volutpat consequat mauris nunc congue nisi vitae suscipit tellus. Ac tincidunt vitae semper quis lectus nulla at volutpat diam. Ut tristique et egestas quis ipsum suspendisse ultrices gravida. Etiam dignissim diam quis enim. Ut diam quam nulla porttitor massa. Maecenas pharetra convallis posuere morbi leo urna molestie at. Proin libero nunc consequat interdum varius sit amet mattis vulputate. Egestas diam in arcu cursus euismod. Dui faucibus in ornare quam viverra. Risus nullam eget felis eget nunc lobortis. Senectus et netus et malesuada fames ac turpis. Vitae elementum curabitur vitae nunc. Arcu vitae elementum curabitur vitae nunc sed velit dignissim. Fermentum iaculis eu non diam phasellus vestibulum lorem. Facilisis gravida neque convallis a cras semper auctor neque. Sed sed risus pretium quam. Non odio euismod lacinia at quis risus.\\\",\\\"name\\\":\\\"textField0\\\"}]]}\",\n",
      "            \"category\": \"\\u0411\\u043b\\u043e\\u0433\\u0438\",\n",
      "            \"tags\": \"[\\\"\\u0422\\u0435\\u043a\\u0441\\u0442\\\"]\",\n",
      "            \"moderator_like\": false\n",
      "        }\n",
      "    ]\n",
      "}\n"
     ]
    }
   ],
   "source": [
    "r = requests.get('https://back.fishow.ru/api/user/liked/blogs/', auth=(username, password))\n",
    "print('status code: {}'.format(r.status_code))\n",
    "print('json response:')\n",
    "print('======================================')\n",
    "print(dumps(r.json(), indent=4))"
   ]
  },
  {
   "cell_type": "markdown",
   "metadata": {},
   "source": [
    "# Получаем список созданных статей юзера"
   ]
  },
  {
   "cell_type": "code",
   "execution_count": 13,
   "metadata": {},
   "outputs": [
    {
     "name": "stdout",
     "output_type": "stream",
     "text": [
      "status code: 200\n",
      "json response:\n",
      "======================================\n",
      "{\n",
      "    \"count\": 1007,\n",
      "    \"next\": \"http://45.90.35.152:8000/api/user/created/blogs/?page=2\",\n",
      "    \"previous\": null,\n",
      "    \"results\": [\n",
      "        {\n",
      "            \"id\": 1011,\n",
      "            \"author\": \"tam2511\",\n",
      "            \"created_at\": \"07.03.21 12:20\",\n",
      "            \"likes_count\": 0,\n",
      "            \"dislikes_count\": 0,\n",
      "            \"user_has_votedUp\": false,\n",
      "            \"user_has_votedDown\": false,\n",
      "            \"user_saved\": false,\n",
      "            \"slug\": \"test-999-j2my0m\",\n",
      "            \"comments_count\": 0,\n",
      "            \"user_has_commented\": false,\n",
      "            \"time_from_creations\": \"3\\u00a0minutes\",\n",
      "            \"user_views\": 0,\n",
      "            \"is_author\": true,\n",
      "            \"title\": \"Test 999\",\n",
      "            \"content\": \"{\\\"blocks\\\":[[{\\\"type\\\":\\\"text\\\",\\\"body\\\":\\\"Lorem ipsum dolor sit amet, consectetur adipiscing elit, sed do eiusmod tempor incididunt ut labore et dolore magna aliqua. Tortor at auctor urna nunc id cursus. Sodales neque sodales ut etiam sit amet. Quis hendrerit dolor magna eget est lorem ipsum dolor. Mauris a diam maecenas sed enim ut sem. Maecenas sed enim ut sem viverra aliquet eget sit. Tempor nec feugiat nisl pretium fusce id velit. Aliquam sem fringilla ut morbi. Volutpat commodo sed egestas egestas fringilla phasellus faucibus scelerisque. Mollis aliquam ut porttitor leo a. Ipsum consequat nisl vel pretium lectus quam id. Sed risus ultricies tristique nulla aliquet enim tortor. Semper quis lectus nulla at volutpat diam ut.\\\\n\\\\nGravida quis blandit turpis cursus. Massa massa ultricies mi quis hendrerit dolor magna. Tincidunt eget nullam non nisi est. Et ligula ullamcorper malesuada proin libero nunc consequat. Id aliquet lectus proin nibh nisl. Viverra nam libero justo laoreet sit. Viverra accumsan in nisl nisi scelerisque eu ultrices vitae auctor. Venenatis urna cursus eget nunc scelerisque viverra mauris in aliquam. Vulputate odio ut enim blandit volutpat maecenas volutpat blandit. Et netus et malesuada fames ac turpis egestas integer. Vel facilisis volutpat est velit egestas dui id. Id cursus metus aliquam eleifend mi in. Sed risus ultricies tristique nulla aliquet enim. Id diam maecenas ultricies mi eget mauris pharetra. At volutpat diam ut venenatis tellus in. In aliquam sem fringilla ut morbi. Habitasse platea dictumst quisque sagittis. Egestas integer eget aliquet nibh praesent. Nec feugiat nisl pretium fusce.\\\\n\\\\nAuctor neque vitae tempus quam pellentesque nec nam aliquam sem. Nibh venenatis cras sed felis. Eget mi proin sed libero enim. Sagittis orci a scelerisque purus semper eget duis at. Platea dictumst vestibulum rhoncus est pellentesque elit ullamcorper dignissim. Ultricies integer quis auctor elit sed vulputate mi sit. Velit sed ullamcorper morbi tincidunt ornare massa eget egestas purus. Id interdum velit laoreet id donec ultrices tincidunt arcu non. At urna condimentum mattis pellentesque id nibh tortor id. Volutpat maecenas volutpat blandit aliquam etiam. Purus viverra accumsan in nisl. Pellentesque eu tincidunt tortor aliquam nulla facilisi cras fermentum odio. Donec massa sapien faucibus et molestie ac. Massa tempor nec feugiat nisl pretium. Cras semper auctor neque vitae tempus quam pellentesque. Aliquet porttitor lacus luctus accumsan tortor posuere ac ut consequat. Lobortis feugiat vivamus at augue eget arcu dictum varius. In tellus integer feugiat scelerisque varius. Sed arcu non odio euismod lacinia.\\\\n\\\\nUltricies mi eget mauris pharetra. Fermentum dui faucibus in ornare. Dis parturient montes nascetur ridiculus mus. Dis parturient montes nascetur ridiculus mus. Morbi non arcu risus quis varius quam quisque id. Nullam vehicula ipsum a arcu cursus vitae congue mauris rhoncus. Curabitur gravida arcu ac tortor dignissim. Malesuada pellentesque elit eget gravida cum sociis natoque penatibus et. Nullam vehicula ipsum a arcu cursus. Turpis cursus in hac habitasse platea dictumst quisque sagittis. Ullamcorper velit sed ullamcorper morbi tincidunt. Cursus risus at ultrices mi tempus imperdiet nulla. Imperdiet dui accumsan sit amet.\\\\n\\\\nUrna nunc id cursus metus aliquam eleifend mi in nulla. Euismod nisi porta lorem mollis. Nulla porttitor massa id neque aliquam vestibulum morbi blandit cursus. Amet volutpat consequat mauris nunc congue nisi vitae suscipit tellus. Ac tincidunt vitae semper quis lectus nulla at volutpat diam. Ut tristique et egestas quis ipsum suspendisse ultrices gravida. Etiam dignissim diam quis enim. Ut diam quam nulla porttitor massa. Maecenas pharetra convallis posuere morbi leo urna molestie at. Proin libero nunc consequat interdum varius sit amet mattis vulputate. Egestas diam in arcu cursus euismod. Dui faucibus in ornare quam viverra. Risus nullam eget felis eget nunc lobortis. Senectus et netus et malesuada fames ac turpis. Vitae elementum curabitur vitae nunc. Arcu vitae elementum curabitur vitae nunc sed velit dignissim. Fermentum iaculis eu non diam phasellus vestibulum lorem. Facilisis gravida neque convallis a cras semper auctor neque. Sed sed risus pretium quam. Non odio euismod lacinia at quis risus.\\\",\\\"name\\\":\\\"textField0\\\"}]]}\",\n",
      "            \"category\": \"\\u0411\\u043b\\u043e\\u0433\\u0438\",\n",
      "            \"tags\": \"[\\\"\\u0422\\u0435\\u043a\\u0441\\u0442\\\", \\\"\\u0429\\u0443\\u043a\\u0430\\\"]\",\n",
      "            \"moderator_like\": false\n",
      "        },\n",
      "        {\n",
      "            \"id\": 1010,\n",
      "            \"author\": \"tam2511\",\n",
      "            \"created_at\": \"07.03.21 12:20\",\n",
      "            \"likes_count\": 0,\n",
      "            \"dislikes_count\": 0,\n",
      "            \"user_has_votedUp\": false,\n",
      "            \"user_has_votedDown\": false,\n",
      "            \"user_saved\": false,\n",
      "            \"slug\": \"test-998-if8qbj\",\n",
      "            \"comments_count\": 0,\n",
      "            \"user_has_commented\": false,\n",
      "            \"time_from_creations\": \"3\\u00a0minutes\",\n",
      "            \"user_views\": 0,\n",
      "            \"is_author\": true,\n",
      "            \"title\": \"Test 998\",\n",
      "            \"content\": \"{\\\"blocks\\\":[[{\\\"type\\\":\\\"text\\\",\\\"body\\\":\\\"Lorem ipsum dolor sit amet, consectetur adipiscing elit, sed do eiusmod tempor incididunt ut labore et dolore magna aliqua. Tortor at auctor urna nunc id cursus. Sodales neque sodales ut etiam sit amet. Quis hendrerit dolor magna eget est lorem ipsum dolor. Mauris a diam maecenas sed enim ut sem. Maecenas sed enim ut sem viverra aliquet eget sit. Tempor nec feugiat nisl pretium fusce id velit. Aliquam sem fringilla ut morbi. Volutpat commodo sed egestas egestas fringilla phasellus faucibus scelerisque. Mollis aliquam ut porttitor leo a. Ipsum consequat nisl vel pretium lectus quam id. Sed risus ultricies tristique nulla aliquet enim tortor. Semper quis lectus nulla at volutpat diam ut.\\\\n\\\\nGravida quis blandit turpis cursus. Massa massa ultricies mi quis hendrerit dolor magna. Tincidunt eget nullam non nisi est. Et ligula ullamcorper malesuada proin libero nunc consequat. Id aliquet lectus proin nibh nisl. Viverra nam libero justo laoreet sit. Viverra accumsan in nisl nisi scelerisque eu ultrices vitae auctor. Venenatis urna cursus eget nunc scelerisque viverra mauris in aliquam. Vulputate odio ut enim blandit volutpat maecenas volutpat blandit. Et netus et malesuada fames ac turpis egestas integer. Vel facilisis volutpat est velit egestas dui id. Id cursus metus aliquam eleifend mi in. Sed risus ultricies tristique nulla aliquet enim. Id diam maecenas ultricies mi eget mauris pharetra. At volutpat diam ut venenatis tellus in. In aliquam sem fringilla ut morbi. Habitasse platea dictumst quisque sagittis. Egestas integer eget aliquet nibh praesent. Nec feugiat nisl pretium fusce.\\\\n\\\\nAuctor neque vitae tempus quam pellentesque nec nam aliquam sem. Nibh venenatis cras sed felis. Eget mi proin sed libero enim. Sagittis orci a scelerisque purus semper eget duis at. Platea dictumst vestibulum rhoncus est pellentesque elit ullamcorper dignissim. Ultricies integer quis auctor elit sed vulputate mi sit. Velit sed ullamcorper morbi tincidunt ornare massa eget egestas purus. Id interdum velit laoreet id donec ultrices tincidunt arcu non. At urna condimentum mattis pellentesque id nibh tortor id. Volutpat maecenas volutpat blandit aliquam etiam. Purus viverra accumsan in nisl. Pellentesque eu tincidunt tortor aliquam nulla facilisi cras fermentum odio. Donec massa sapien faucibus et molestie ac. Massa tempor nec feugiat nisl pretium. Cras semper auctor neque vitae tempus quam pellentesque. Aliquet porttitor lacus luctus accumsan tortor posuere ac ut consequat. Lobortis feugiat vivamus at augue eget arcu dictum varius. In tellus integer feugiat scelerisque varius. Sed arcu non odio euismod lacinia.\\\\n\\\\nUltricies mi eget mauris pharetra. Fermentum dui faucibus in ornare. Dis parturient montes nascetur ridiculus mus. Dis parturient montes nascetur ridiculus mus. Morbi non arcu risus quis varius quam quisque id. Nullam vehicula ipsum a arcu cursus vitae congue mauris rhoncus. Curabitur gravida arcu ac tortor dignissim. Malesuada pellentesque elit eget gravida cum sociis natoque penatibus et. Nullam vehicula ipsum a arcu cursus. Turpis cursus in hac habitasse platea dictumst quisque sagittis. Ullamcorper velit sed ullamcorper morbi tincidunt. Cursus risus at ultrices mi tempus imperdiet nulla. Imperdiet dui accumsan sit amet.\\\\n\\\\nUrna nunc id cursus metus aliquam eleifend mi in nulla. Euismod nisi porta lorem mollis. Nulla porttitor massa id neque aliquam vestibulum morbi blandit cursus. Amet volutpat consequat mauris nunc congue nisi vitae suscipit tellus. Ac tincidunt vitae semper quis lectus nulla at volutpat diam. Ut tristique et egestas quis ipsum suspendisse ultrices gravida. Etiam dignissim diam quis enim. Ut diam quam nulla porttitor massa. Maecenas pharetra convallis posuere morbi leo urna molestie at. Proin libero nunc consequat interdum varius sit amet mattis vulputate. Egestas diam in arcu cursus euismod. Dui faucibus in ornare quam viverra. Risus nullam eget felis eget nunc lobortis. Senectus et netus et malesuada fames ac turpis. Vitae elementum curabitur vitae nunc. Arcu vitae elementum curabitur vitae nunc sed velit dignissim. Fermentum iaculis eu non diam phasellus vestibulum lorem. Facilisis gravida neque convallis a cras semper auctor neque. Sed sed risus pretium quam. Non odio euismod lacinia at quis risus.\\\",\\\"name\\\":\\\"textField0\\\"}]]}\",\n",
      "            \"category\": \"\\u0411\\u043b\\u043e\\u0433\\u0438\",\n",
      "            \"tags\": \"[\\\"\\u0422\\u0435\\u043a\\u0441\\u0442\\\", \\\"\\u0429\\u0443\\u043a\\u0430\\\"]\",\n",
      "            \"moderator_like\": false\n",
      "        },\n",
      "        {\n",
      "            \"id\": 1009,\n",
      "            \"author\": \"tam2511\",\n",
      "            \"created_at\": \"07.03.21 12:20\",\n",
      "            \"likes_count\": 0,\n",
      "            \"dislikes_count\": 0,\n",
      "            \"user_has_votedUp\": false,\n",
      "            \"user_has_votedDown\": false,\n",
      "            \"user_saved\": false,\n",
      "            \"slug\": \"test-997-x73mli\",\n",
      "            \"comments_count\": 0,\n",
      "            \"user_has_commented\": false,\n",
      "            \"time_from_creations\": \"3\\u00a0minutes\",\n",
      "            \"user_views\": 0,\n",
      "            \"is_author\": true,\n",
      "            \"title\": \"Test 997\",\n",
      "            \"content\": \"{\\\"blocks\\\":[[{\\\"type\\\":\\\"text\\\",\\\"body\\\":\\\"Lorem ipsum dolor sit amet, consectetur adipiscing elit, sed do eiusmod tempor incididunt ut labore et dolore magna aliqua. Tortor at auctor urna nunc id cursus. Sodales neque sodales ut etiam sit amet. Quis hendrerit dolor magna eget est lorem ipsum dolor. Mauris a diam maecenas sed enim ut sem. Maecenas sed enim ut sem viverra aliquet eget sit. Tempor nec feugiat nisl pretium fusce id velit. Aliquam sem fringilla ut morbi. Volutpat commodo sed egestas egestas fringilla phasellus faucibus scelerisque. Mollis aliquam ut porttitor leo a. Ipsum consequat nisl vel pretium lectus quam id. Sed risus ultricies tristique nulla aliquet enim tortor. Semper quis lectus nulla at volutpat diam ut.\\\\n\\\\nGravida quis blandit turpis cursus. Massa massa ultricies mi quis hendrerit dolor magna. Tincidunt eget nullam non nisi est. Et ligula ullamcorper malesuada proin libero nunc consequat. Id aliquet lectus proin nibh nisl. Viverra nam libero justo laoreet sit. Viverra accumsan in nisl nisi scelerisque eu ultrices vitae auctor. Venenatis urna cursus eget nunc scelerisque viverra mauris in aliquam. Vulputate odio ut enim blandit volutpat maecenas volutpat blandit. Et netus et malesuada fames ac turpis egestas integer. Vel facilisis volutpat est velit egestas dui id. Id cursus metus aliquam eleifend mi in. Sed risus ultricies tristique nulla aliquet enim. Id diam maecenas ultricies mi eget mauris pharetra. At volutpat diam ut venenatis tellus in. In aliquam sem fringilla ut morbi. Habitasse platea dictumst quisque sagittis. Egestas integer eget aliquet nibh praesent. Nec feugiat nisl pretium fusce.\\\\n\\\\nAuctor neque vitae tempus quam pellentesque nec nam aliquam sem. Nibh venenatis cras sed felis. Eget mi proin sed libero enim. Sagittis orci a scelerisque purus semper eget duis at. Platea dictumst vestibulum rhoncus est pellentesque elit ullamcorper dignissim. Ultricies integer quis auctor elit sed vulputate mi sit. Velit sed ullamcorper morbi tincidunt ornare massa eget egestas purus. Id interdum velit laoreet id donec ultrices tincidunt arcu non. At urna condimentum mattis pellentesque id nibh tortor id. Volutpat maecenas volutpat blandit aliquam etiam. Purus viverra accumsan in nisl. Pellentesque eu tincidunt tortor aliquam nulla facilisi cras fermentum odio. Donec massa sapien faucibus et molestie ac. Massa tempor nec feugiat nisl pretium. Cras semper auctor neque vitae tempus quam pellentesque. Aliquet porttitor lacus luctus accumsan tortor posuere ac ut consequat. Lobortis feugiat vivamus at augue eget arcu dictum varius. In tellus integer feugiat scelerisque varius. Sed arcu non odio euismod lacinia.\\\\n\\\\nUltricies mi eget mauris pharetra. Fermentum dui faucibus in ornare. Dis parturient montes nascetur ridiculus mus. Dis parturient montes nascetur ridiculus mus. Morbi non arcu risus quis varius quam quisque id. Nullam vehicula ipsum a arcu cursus vitae congue mauris rhoncus. Curabitur gravida arcu ac tortor dignissim. Malesuada pellentesque elit eget gravida cum sociis natoque penatibus et. Nullam vehicula ipsum a arcu cursus. Turpis cursus in hac habitasse platea dictumst quisque sagittis. Ullamcorper velit sed ullamcorper morbi tincidunt. Cursus risus at ultrices mi tempus imperdiet nulla. Imperdiet dui accumsan sit amet.\\\\n\\\\nUrna nunc id cursus metus aliquam eleifend mi in nulla. Euismod nisi porta lorem mollis. Nulla porttitor massa id neque aliquam vestibulum morbi blandit cursus. Amet volutpat consequat mauris nunc congue nisi vitae suscipit tellus. Ac tincidunt vitae semper quis lectus nulla at volutpat diam. Ut tristique et egestas quis ipsum suspendisse ultrices gravida. Etiam dignissim diam quis enim. Ut diam quam nulla porttitor massa. Maecenas pharetra convallis posuere morbi leo urna molestie at. Proin libero nunc consequat interdum varius sit amet mattis vulputate. Egestas diam in arcu cursus euismod. Dui faucibus in ornare quam viverra. Risus nullam eget felis eget nunc lobortis. Senectus et netus et malesuada fames ac turpis. Vitae elementum curabitur vitae nunc. Arcu vitae elementum curabitur vitae nunc sed velit dignissim. Fermentum iaculis eu non diam phasellus vestibulum lorem. Facilisis gravida neque convallis a cras semper auctor neque. Sed sed risus pretium quam. Non odio euismod lacinia at quis risus.\\\",\\\"name\\\":\\\"textField0\\\"}]]}\",\n",
      "            \"category\": \"\\u0411\\u043b\\u043e\\u0433\\u0438\",\n",
      "            \"tags\": \"[\\\"\\u0422\\u0435\\u043a\\u0441\\u0442\\\", \\\"\\u0429\\u0443\\u043a\\u0430\\\"]\",\n",
      "            \"moderator_like\": false\n",
      "        },\n",
      "        {\n",
      "            \"id\": 1008,\n",
      "            \"author\": \"tam2511\",\n",
      "            \"created_at\": \"07.03.21 12:20\",\n",
      "            \"likes_count\": 0,\n",
      "            \"dislikes_count\": 0,\n",
      "            \"user_has_votedUp\": false,\n",
      "            \"user_has_votedDown\": false,\n",
      "            \"user_saved\": false,\n",
      "            \"slug\": \"test-996-mawzcd\",\n",
      "            \"comments_count\": 0,\n",
      "            \"user_has_commented\": false,\n",
      "            \"time_from_creations\": \"3\\u00a0minutes\",\n",
      "            \"user_views\": 0,\n",
      "            \"is_author\": true,\n",
      "            \"title\": \"Test 996\",\n",
      "            \"content\": \"{\\\"blocks\\\":[[{\\\"type\\\":\\\"text\\\",\\\"body\\\":\\\"Lorem ipsum dolor sit amet, consectetur adipiscing elit, sed do eiusmod tempor incididunt ut labore et dolore magna aliqua. Tortor at auctor urna nunc id cursus. Sodales neque sodales ut etiam sit amet. Quis hendrerit dolor magna eget est lorem ipsum dolor. Mauris a diam maecenas sed enim ut sem. Maecenas sed enim ut sem viverra aliquet eget sit. Tempor nec feugiat nisl pretium fusce id velit. Aliquam sem fringilla ut morbi. Volutpat commodo sed egestas egestas fringilla phasellus faucibus scelerisque. Mollis aliquam ut porttitor leo a. Ipsum consequat nisl vel pretium lectus quam id. Sed risus ultricies tristique nulla aliquet enim tortor. Semper quis lectus nulla at volutpat diam ut.\\\\n\\\\nGravida quis blandit turpis cursus. Massa massa ultricies mi quis hendrerit dolor magna. Tincidunt eget nullam non nisi est. Et ligula ullamcorper malesuada proin libero nunc consequat. Id aliquet lectus proin nibh nisl. Viverra nam libero justo laoreet sit. Viverra accumsan in nisl nisi scelerisque eu ultrices vitae auctor. Venenatis urna cursus eget nunc scelerisque viverra mauris in aliquam. Vulputate odio ut enim blandit volutpat maecenas volutpat blandit. Et netus et malesuada fames ac turpis egestas integer. Vel facilisis volutpat est velit egestas dui id. Id cursus metus aliquam eleifend mi in. Sed risus ultricies tristique nulla aliquet enim. Id diam maecenas ultricies mi eget mauris pharetra. At volutpat diam ut venenatis tellus in. In aliquam sem fringilla ut morbi. Habitasse platea dictumst quisque sagittis. Egestas integer eget aliquet nibh praesent. Nec feugiat nisl pretium fusce.\\\\n\\\\nAuctor neque vitae tempus quam pellentesque nec nam aliquam sem. Nibh venenatis cras sed felis. Eget mi proin sed libero enim. Sagittis orci a scelerisque purus semper eget duis at. Platea dictumst vestibulum rhoncus est pellentesque elit ullamcorper dignissim. Ultricies integer quis auctor elit sed vulputate mi sit. Velit sed ullamcorper morbi tincidunt ornare massa eget egestas purus. Id interdum velit laoreet id donec ultrices tincidunt arcu non. At urna condimentum mattis pellentesque id nibh tortor id. Volutpat maecenas volutpat blandit aliquam etiam. Purus viverra accumsan in nisl. Pellentesque eu tincidunt tortor aliquam nulla facilisi cras fermentum odio. Donec massa sapien faucibus et molestie ac. Massa tempor nec feugiat nisl pretium. Cras semper auctor neque vitae tempus quam pellentesque. Aliquet porttitor lacus luctus accumsan tortor posuere ac ut consequat. Lobortis feugiat vivamus at augue eget arcu dictum varius. In tellus integer feugiat scelerisque varius. Sed arcu non odio euismod lacinia.\\\\n\\\\nUltricies mi eget mauris pharetra. Fermentum dui faucibus in ornare. Dis parturient montes nascetur ridiculus mus. Dis parturient montes nascetur ridiculus mus. Morbi non arcu risus quis varius quam quisque id. Nullam vehicula ipsum a arcu cursus vitae congue mauris rhoncus. Curabitur gravida arcu ac tortor dignissim. Malesuada pellentesque elit eget gravida cum sociis natoque penatibus et. Nullam vehicula ipsum a arcu cursus. Turpis cursus in hac habitasse platea dictumst quisque sagittis. Ullamcorper velit sed ullamcorper morbi tincidunt. Cursus risus at ultrices mi tempus imperdiet nulla. Imperdiet dui accumsan sit amet.\\\\n\\\\nUrna nunc id cursus metus aliquam eleifend mi in nulla. Euismod nisi porta lorem mollis. Nulla porttitor massa id neque aliquam vestibulum morbi blandit cursus. Amet volutpat consequat mauris nunc congue nisi vitae suscipit tellus. Ac tincidunt vitae semper quis lectus nulla at volutpat diam. Ut tristique et egestas quis ipsum suspendisse ultrices gravida. Etiam dignissim diam quis enim. Ut diam quam nulla porttitor massa. Maecenas pharetra convallis posuere morbi leo urna molestie at. Proin libero nunc consequat interdum varius sit amet mattis vulputate. Egestas diam in arcu cursus euismod. Dui faucibus in ornare quam viverra. Risus nullam eget felis eget nunc lobortis. Senectus et netus et malesuada fames ac turpis. Vitae elementum curabitur vitae nunc. Arcu vitae elementum curabitur vitae nunc sed velit dignissim. Fermentum iaculis eu non diam phasellus vestibulum lorem. Facilisis gravida neque convallis a cras semper auctor neque. Sed sed risus pretium quam. Non odio euismod lacinia at quis risus.\\\",\\\"name\\\":\\\"textField0\\\"}]]}\",\n",
      "            \"category\": \"\\u0411\\u043b\\u043e\\u0433\\u0438\",\n",
      "            \"tags\": \"[\\\"\\u0422\\u0435\\u043a\\u0441\\u0442\\\", \\\"\\u0429\\u0443\\u043a\\u0430\\\"]\",\n",
      "            \"moderator_like\": false\n",
      "        },\n",
      "        {\n",
      "            \"id\": 1007,\n",
      "            \"author\": \"tam2511\",\n",
      "            \"created_at\": \"07.03.21 12:20\",\n",
      "            \"likes_count\": 0,\n",
      "            \"dislikes_count\": 0,\n",
      "            \"user_has_votedUp\": false,\n",
      "            \"user_has_votedDown\": false,\n",
      "            \"user_saved\": false,\n",
      "            \"slug\": \"test-995-h059yi\",\n",
      "            \"comments_count\": 0,\n",
      "            \"user_has_commented\": false,\n",
      "            \"time_from_creations\": \"3\\u00a0minutes\",\n",
      "            \"user_views\": 0,\n",
      "            \"is_author\": true,\n",
      "            \"title\": \"Test 995\",\n",
      "            \"content\": \"{\\\"blocks\\\":[[{\\\"type\\\":\\\"text\\\",\\\"body\\\":\\\"Lorem ipsum dolor sit amet, consectetur adipiscing elit, sed do eiusmod tempor incididunt ut labore et dolore magna aliqua. Tortor at auctor urna nunc id cursus. Sodales neque sodales ut etiam sit amet. Quis hendrerit dolor magna eget est lorem ipsum dolor. Mauris a diam maecenas sed enim ut sem. Maecenas sed enim ut sem viverra aliquet eget sit. Tempor nec feugiat nisl pretium fusce id velit. Aliquam sem fringilla ut morbi. Volutpat commodo sed egestas egestas fringilla phasellus faucibus scelerisque. Mollis aliquam ut porttitor leo a. Ipsum consequat nisl vel pretium lectus quam id. Sed risus ultricies tristique nulla aliquet enim tortor. Semper quis lectus nulla at volutpat diam ut.\\\\n\\\\nGravida quis blandit turpis cursus. Massa massa ultricies mi quis hendrerit dolor magna. Tincidunt eget nullam non nisi est. Et ligula ullamcorper malesuada proin libero nunc consequat. Id aliquet lectus proin nibh nisl. Viverra nam libero justo laoreet sit. Viverra accumsan in nisl nisi scelerisque eu ultrices vitae auctor. Venenatis urna cursus eget nunc scelerisque viverra mauris in aliquam. Vulputate odio ut enim blandit volutpat maecenas volutpat blandit. Et netus et malesuada fames ac turpis egestas integer. Vel facilisis volutpat est velit egestas dui id. Id cursus metus aliquam eleifend mi in. Sed risus ultricies tristique nulla aliquet enim. Id diam maecenas ultricies mi eget mauris pharetra. At volutpat diam ut venenatis tellus in. In aliquam sem fringilla ut morbi. Habitasse platea dictumst quisque sagittis. Egestas integer eget aliquet nibh praesent. Nec feugiat nisl pretium fusce.\\\\n\\\\nAuctor neque vitae tempus quam pellentesque nec nam aliquam sem. Nibh venenatis cras sed felis. Eget mi proin sed libero enim. Sagittis orci a scelerisque purus semper eget duis at. Platea dictumst vestibulum rhoncus est pellentesque elit ullamcorper dignissim. Ultricies integer quis auctor elit sed vulputate mi sit. Velit sed ullamcorper morbi tincidunt ornare massa eget egestas purus. Id interdum velit laoreet id donec ultrices tincidunt arcu non. At urna condimentum mattis pellentesque id nibh tortor id. Volutpat maecenas volutpat blandit aliquam etiam. Purus viverra accumsan in nisl. Pellentesque eu tincidunt tortor aliquam nulla facilisi cras fermentum odio. Donec massa sapien faucibus et molestie ac. Massa tempor nec feugiat nisl pretium. Cras semper auctor neque vitae tempus quam pellentesque. Aliquet porttitor lacus luctus accumsan tortor posuere ac ut consequat. Lobortis feugiat vivamus at augue eget arcu dictum varius. In tellus integer feugiat scelerisque varius. Sed arcu non odio euismod lacinia.\\\\n\\\\nUltricies mi eget mauris pharetra. Fermentum dui faucibus in ornare. Dis parturient montes nascetur ridiculus mus. Dis parturient montes nascetur ridiculus mus. Morbi non arcu risus quis varius quam quisque id. Nullam vehicula ipsum a arcu cursus vitae congue mauris rhoncus. Curabitur gravida arcu ac tortor dignissim. Malesuada pellentesque elit eget gravida cum sociis natoque penatibus et. Nullam vehicula ipsum a arcu cursus. Turpis cursus in hac habitasse platea dictumst quisque sagittis. Ullamcorper velit sed ullamcorper morbi tincidunt. Cursus risus at ultrices mi tempus imperdiet nulla. Imperdiet dui accumsan sit amet.\\\\n\\\\nUrna nunc id cursus metus aliquam eleifend mi in nulla. Euismod nisi porta lorem mollis. Nulla porttitor massa id neque aliquam vestibulum morbi blandit cursus. Amet volutpat consequat mauris nunc congue nisi vitae suscipit tellus. Ac tincidunt vitae semper quis lectus nulla at volutpat diam. Ut tristique et egestas quis ipsum suspendisse ultrices gravida. Etiam dignissim diam quis enim. Ut diam quam nulla porttitor massa. Maecenas pharetra convallis posuere morbi leo urna molestie at. Proin libero nunc consequat interdum varius sit amet mattis vulputate. Egestas diam in arcu cursus euismod. Dui faucibus in ornare quam viverra. Risus nullam eget felis eget nunc lobortis. Senectus et netus et malesuada fames ac turpis. Vitae elementum curabitur vitae nunc. Arcu vitae elementum curabitur vitae nunc sed velit dignissim. Fermentum iaculis eu non diam phasellus vestibulum lorem. Facilisis gravida neque convallis a cras semper auctor neque. Sed sed risus pretium quam. Non odio euismod lacinia at quis risus.\\\",\\\"name\\\":\\\"textField0\\\"}]]}\",\n",
      "            \"category\": \"\\u0411\\u043b\\u043e\\u0433\\u0438\",\n",
      "            \"tags\": \"[\\\"\\u0422\\u0435\\u043a\\u0441\\u0442\\\", \\\"\\u0429\\u0443\\u043a\\u0430\\\"]\",\n",
      "            \"moderator_like\": false\n",
      "        },\n",
      "        {\n",
      "            \"id\": 1006,\n",
      "            \"author\": \"tam2511\",\n",
      "            \"created_at\": \"07.03.21 12:20\",\n",
      "            \"likes_count\": 0,\n",
      "            \"dislikes_count\": 0,\n",
      "            \"user_has_votedUp\": false,\n",
      "            \"user_has_votedDown\": false,\n",
      "            \"user_saved\": false,\n",
      "            \"slug\": \"test-994-3rye17\",\n",
      "            \"comments_count\": 0,\n",
      "            \"user_has_commented\": false,\n",
      "            \"time_from_creations\": \"3\\u00a0minutes\",\n",
      "            \"user_views\": 0,\n",
      "            \"is_author\": true,\n",
      "            \"title\": \"Test 994\",\n",
      "            \"content\": \"{\\\"blocks\\\":[[{\\\"type\\\":\\\"text\\\",\\\"body\\\":\\\"Lorem ipsum dolor sit amet, consectetur adipiscing elit, sed do eiusmod tempor incididunt ut labore et dolore magna aliqua. Tortor at auctor urna nunc id cursus. Sodales neque sodales ut etiam sit amet. Quis hendrerit dolor magna eget est lorem ipsum dolor. Mauris a diam maecenas sed enim ut sem. Maecenas sed enim ut sem viverra aliquet eget sit. Tempor nec feugiat nisl pretium fusce id velit. Aliquam sem fringilla ut morbi. Volutpat commodo sed egestas egestas fringilla phasellus faucibus scelerisque. Mollis aliquam ut porttitor leo a. Ipsum consequat nisl vel pretium lectus quam id. Sed risus ultricies tristique nulla aliquet enim tortor. Semper quis lectus nulla at volutpat diam ut.\\\\n\\\\nGravida quis blandit turpis cursus. Massa massa ultricies mi quis hendrerit dolor magna. Tincidunt eget nullam non nisi est. Et ligula ullamcorper malesuada proin libero nunc consequat. Id aliquet lectus proin nibh nisl. Viverra nam libero justo laoreet sit. Viverra accumsan in nisl nisi scelerisque eu ultrices vitae auctor. Venenatis urna cursus eget nunc scelerisque viverra mauris in aliquam. Vulputate odio ut enim blandit volutpat maecenas volutpat blandit. Et netus et malesuada fames ac turpis egestas integer. Vel facilisis volutpat est velit egestas dui id. Id cursus metus aliquam eleifend mi in. Sed risus ultricies tristique nulla aliquet enim. Id diam maecenas ultricies mi eget mauris pharetra. At volutpat diam ut venenatis tellus in. In aliquam sem fringilla ut morbi. Habitasse platea dictumst quisque sagittis. Egestas integer eget aliquet nibh praesent. Nec feugiat nisl pretium fusce.\\\\n\\\\nAuctor neque vitae tempus quam pellentesque nec nam aliquam sem. Nibh venenatis cras sed felis. Eget mi proin sed libero enim. Sagittis orci a scelerisque purus semper eget duis at. Platea dictumst vestibulum rhoncus est pellentesque elit ullamcorper dignissim. Ultricies integer quis auctor elit sed vulputate mi sit. Velit sed ullamcorper morbi tincidunt ornare massa eget egestas purus. Id interdum velit laoreet id donec ultrices tincidunt arcu non. At urna condimentum mattis pellentesque id nibh tortor id. Volutpat maecenas volutpat blandit aliquam etiam. Purus viverra accumsan in nisl. Pellentesque eu tincidunt tortor aliquam nulla facilisi cras fermentum odio. Donec massa sapien faucibus et molestie ac. Massa tempor nec feugiat nisl pretium. Cras semper auctor neque vitae tempus quam pellentesque. Aliquet porttitor lacus luctus accumsan tortor posuere ac ut consequat. Lobortis feugiat vivamus at augue eget arcu dictum varius. In tellus integer feugiat scelerisque varius. Sed arcu non odio euismod lacinia.\\\\n\\\\nUltricies mi eget mauris pharetra. Fermentum dui faucibus in ornare. Dis parturient montes nascetur ridiculus mus. Dis parturient montes nascetur ridiculus mus. Morbi non arcu risus quis varius quam quisque id. Nullam vehicula ipsum a arcu cursus vitae congue mauris rhoncus. Curabitur gravida arcu ac tortor dignissim. Malesuada pellentesque elit eget gravida cum sociis natoque penatibus et. Nullam vehicula ipsum a arcu cursus. Turpis cursus in hac habitasse platea dictumst quisque sagittis. Ullamcorper velit sed ullamcorper morbi tincidunt. Cursus risus at ultrices mi tempus imperdiet nulla. Imperdiet dui accumsan sit amet.\\\\n\\\\nUrna nunc id cursus metus aliquam eleifend mi in nulla. Euismod nisi porta lorem mollis. Nulla porttitor massa id neque aliquam vestibulum morbi blandit cursus. Amet volutpat consequat mauris nunc congue nisi vitae suscipit tellus. Ac tincidunt vitae semper quis lectus nulla at volutpat diam. Ut tristique et egestas quis ipsum suspendisse ultrices gravida. Etiam dignissim diam quis enim. Ut diam quam nulla porttitor massa. Maecenas pharetra convallis posuere morbi leo urna molestie at. Proin libero nunc consequat interdum varius sit amet mattis vulputate. Egestas diam in arcu cursus euismod. Dui faucibus in ornare quam viverra. Risus nullam eget felis eget nunc lobortis. Senectus et netus et malesuada fames ac turpis. Vitae elementum curabitur vitae nunc. Arcu vitae elementum curabitur vitae nunc sed velit dignissim. Fermentum iaculis eu non diam phasellus vestibulum lorem. Facilisis gravida neque convallis a cras semper auctor neque. Sed sed risus pretium quam. Non odio euismod lacinia at quis risus.\\\",\\\"name\\\":\\\"textField0\\\"}]]}\",\n",
      "            \"category\": \"\\u0411\\u043b\\u043e\\u0433\\u0438\",\n",
      "            \"tags\": \"[\\\"\\u0422\\u0435\\u043a\\u0441\\u0442\\\", \\\"\\u0429\\u0443\\u043a\\u0430\\\"]\",\n",
      "            \"moderator_like\": false\n",
      "        },\n",
      "        {\n",
      "            \"id\": 1005,\n",
      "            \"author\": \"tam2511\",\n",
      "            \"created_at\": \"07.03.21 12:20\",\n",
      "            \"likes_count\": 0,\n",
      "            \"dislikes_count\": 0,\n",
      "            \"user_has_votedUp\": false,\n",
      "            \"user_has_votedDown\": false,\n",
      "            \"user_saved\": false,\n",
      "            \"slug\": \"test-993-jq0v6t\",\n",
      "            \"comments_count\": 0,\n",
      "            \"user_has_commented\": false,\n",
      "            \"time_from_creations\": \"3\\u00a0minutes\",\n",
      "            \"user_views\": 0,\n",
      "            \"is_author\": true,\n",
      "            \"title\": \"Test 993\",\n",
      "            \"content\": \"{\\\"blocks\\\":[[{\\\"type\\\":\\\"text\\\",\\\"body\\\":\\\"Lorem ipsum dolor sit amet, consectetur adipiscing elit, sed do eiusmod tempor incididunt ut labore et dolore magna aliqua. Tortor at auctor urna nunc id cursus. Sodales neque sodales ut etiam sit amet. Quis hendrerit dolor magna eget est lorem ipsum dolor. Mauris a diam maecenas sed enim ut sem. Maecenas sed enim ut sem viverra aliquet eget sit. Tempor nec feugiat nisl pretium fusce id velit. Aliquam sem fringilla ut morbi. Volutpat commodo sed egestas egestas fringilla phasellus faucibus scelerisque. Mollis aliquam ut porttitor leo a. Ipsum consequat nisl vel pretium lectus quam id. Sed risus ultricies tristique nulla aliquet enim tortor. Semper quis lectus nulla at volutpat diam ut.\\\\n\\\\nGravida quis blandit turpis cursus. Massa massa ultricies mi quis hendrerit dolor magna. Tincidunt eget nullam non nisi est. Et ligula ullamcorper malesuada proin libero nunc consequat. Id aliquet lectus proin nibh nisl. Viverra nam libero justo laoreet sit. Viverra accumsan in nisl nisi scelerisque eu ultrices vitae auctor. Venenatis urna cursus eget nunc scelerisque viverra mauris in aliquam. Vulputate odio ut enim blandit volutpat maecenas volutpat blandit. Et netus et malesuada fames ac turpis egestas integer. Vel facilisis volutpat est velit egestas dui id. Id cursus metus aliquam eleifend mi in. Sed risus ultricies tristique nulla aliquet enim. Id diam maecenas ultricies mi eget mauris pharetra. At volutpat diam ut venenatis tellus in. In aliquam sem fringilla ut morbi. Habitasse platea dictumst quisque sagittis. Egestas integer eget aliquet nibh praesent. Nec feugiat nisl pretium fusce.\\\\n\\\\nAuctor neque vitae tempus quam pellentesque nec nam aliquam sem. Nibh venenatis cras sed felis. Eget mi proin sed libero enim. Sagittis orci a scelerisque purus semper eget duis at. Platea dictumst vestibulum rhoncus est pellentesque elit ullamcorper dignissim. Ultricies integer quis auctor elit sed vulputate mi sit. Velit sed ullamcorper morbi tincidunt ornare massa eget egestas purus. Id interdum velit laoreet id donec ultrices tincidunt arcu non. At urna condimentum mattis pellentesque id nibh tortor id. Volutpat maecenas volutpat blandit aliquam etiam. Purus viverra accumsan in nisl. Pellentesque eu tincidunt tortor aliquam nulla facilisi cras fermentum odio. Donec massa sapien faucibus et molestie ac. Massa tempor nec feugiat nisl pretium. Cras semper auctor neque vitae tempus quam pellentesque. Aliquet porttitor lacus luctus accumsan tortor posuere ac ut consequat. Lobortis feugiat vivamus at augue eget arcu dictum varius. In tellus integer feugiat scelerisque varius. Sed arcu non odio euismod lacinia.\\\\n\\\\nUltricies mi eget mauris pharetra. Fermentum dui faucibus in ornare. Dis parturient montes nascetur ridiculus mus. Dis parturient montes nascetur ridiculus mus. Morbi non arcu risus quis varius quam quisque id. Nullam vehicula ipsum a arcu cursus vitae congue mauris rhoncus. Curabitur gravida arcu ac tortor dignissim. Malesuada pellentesque elit eget gravida cum sociis natoque penatibus et. Nullam vehicula ipsum a arcu cursus. Turpis cursus in hac habitasse platea dictumst quisque sagittis. Ullamcorper velit sed ullamcorper morbi tincidunt. Cursus risus at ultrices mi tempus imperdiet nulla. Imperdiet dui accumsan sit amet.\\\\n\\\\nUrna nunc id cursus metus aliquam eleifend mi in nulla. Euismod nisi porta lorem mollis. Nulla porttitor massa id neque aliquam vestibulum morbi blandit cursus. Amet volutpat consequat mauris nunc congue nisi vitae suscipit tellus. Ac tincidunt vitae semper quis lectus nulla at volutpat diam. Ut tristique et egestas quis ipsum suspendisse ultrices gravida. Etiam dignissim diam quis enim. Ut diam quam nulla porttitor massa. Maecenas pharetra convallis posuere morbi leo urna molestie at. Proin libero nunc consequat interdum varius sit amet mattis vulputate. Egestas diam in arcu cursus euismod. Dui faucibus in ornare quam viverra. Risus nullam eget felis eget nunc lobortis. Senectus et netus et malesuada fames ac turpis. Vitae elementum curabitur vitae nunc. Arcu vitae elementum curabitur vitae nunc sed velit dignissim. Fermentum iaculis eu non diam phasellus vestibulum lorem. Facilisis gravida neque convallis a cras semper auctor neque. Sed sed risus pretium quam. Non odio euismod lacinia at quis risus.\\\",\\\"name\\\":\\\"textField0\\\"}]]}\",\n",
      "            \"category\": \"\\u0411\\u043b\\u043e\\u0433\\u0438\",\n",
      "            \"tags\": \"[\\\"\\u0422\\u0435\\u043a\\u0441\\u0442\\\", \\\"\\u0429\\u0443\\u043a\\u0430\\\"]\",\n",
      "            \"moderator_like\": false\n",
      "        },\n",
      "        {\n",
      "            \"id\": 1004,\n",
      "            \"author\": \"tam2511\",\n",
      "            \"created_at\": \"07.03.21 12:20\",\n",
      "            \"likes_count\": 0,\n",
      "            \"dislikes_count\": 0,\n",
      "            \"user_has_votedUp\": false,\n",
      "            \"user_has_votedDown\": false,\n",
      "            \"user_saved\": false,\n",
      "            \"slug\": \"test-992-thqf2x\",\n",
      "            \"comments_count\": 0,\n",
      "            \"user_has_commented\": false,\n",
      "            \"time_from_creations\": \"3\\u00a0minutes\",\n",
      "            \"user_views\": 0,\n",
      "            \"is_author\": true,\n",
      "            \"title\": \"Test 992\",\n",
      "            \"content\": \"{\\\"blocks\\\":[[{\\\"type\\\":\\\"text\\\",\\\"body\\\":\\\"Lorem ipsum dolor sit amet, consectetur adipiscing elit, sed do eiusmod tempor incididunt ut labore et dolore magna aliqua. Tortor at auctor urna nunc id cursus. Sodales neque sodales ut etiam sit amet. Quis hendrerit dolor magna eget est lorem ipsum dolor. Mauris a diam maecenas sed enim ut sem. Maecenas sed enim ut sem viverra aliquet eget sit. Tempor nec feugiat nisl pretium fusce id velit. Aliquam sem fringilla ut morbi. Volutpat commodo sed egestas egestas fringilla phasellus faucibus scelerisque. Mollis aliquam ut porttitor leo a. Ipsum consequat nisl vel pretium lectus quam id. Sed risus ultricies tristique nulla aliquet enim tortor. Semper quis lectus nulla at volutpat diam ut.\\\\n\\\\nGravida quis blandit turpis cursus. Massa massa ultricies mi quis hendrerit dolor magna. Tincidunt eget nullam non nisi est. Et ligula ullamcorper malesuada proin libero nunc consequat. Id aliquet lectus proin nibh nisl. Viverra nam libero justo laoreet sit. Viverra accumsan in nisl nisi scelerisque eu ultrices vitae auctor. Venenatis urna cursus eget nunc scelerisque viverra mauris in aliquam. Vulputate odio ut enim blandit volutpat maecenas volutpat blandit. Et netus et malesuada fames ac turpis egestas integer. Vel facilisis volutpat est velit egestas dui id. Id cursus metus aliquam eleifend mi in. Sed risus ultricies tristique nulla aliquet enim. Id diam maecenas ultricies mi eget mauris pharetra. At volutpat diam ut venenatis tellus in. In aliquam sem fringilla ut morbi. Habitasse platea dictumst quisque sagittis. Egestas integer eget aliquet nibh praesent. Nec feugiat nisl pretium fusce.\\\\n\\\\nAuctor neque vitae tempus quam pellentesque nec nam aliquam sem. Nibh venenatis cras sed felis. Eget mi proin sed libero enim. Sagittis orci a scelerisque purus semper eget duis at. Platea dictumst vestibulum rhoncus est pellentesque elit ullamcorper dignissim. Ultricies integer quis auctor elit sed vulputate mi sit. Velit sed ullamcorper morbi tincidunt ornare massa eget egestas purus. Id interdum velit laoreet id donec ultrices tincidunt arcu non. At urna condimentum mattis pellentesque id nibh tortor id. Volutpat maecenas volutpat blandit aliquam etiam. Purus viverra accumsan in nisl. Pellentesque eu tincidunt tortor aliquam nulla facilisi cras fermentum odio. Donec massa sapien faucibus et molestie ac. Massa tempor nec feugiat nisl pretium. Cras semper auctor neque vitae tempus quam pellentesque. Aliquet porttitor lacus luctus accumsan tortor posuere ac ut consequat. Lobortis feugiat vivamus at augue eget arcu dictum varius. In tellus integer feugiat scelerisque varius. Sed arcu non odio euismod lacinia.\\\\n\\\\nUltricies mi eget mauris pharetra. Fermentum dui faucibus in ornare. Dis parturient montes nascetur ridiculus mus. Dis parturient montes nascetur ridiculus mus. Morbi non arcu risus quis varius quam quisque id. Nullam vehicula ipsum a arcu cursus vitae congue mauris rhoncus. Curabitur gravida arcu ac tortor dignissim. Malesuada pellentesque elit eget gravida cum sociis natoque penatibus et. Nullam vehicula ipsum a arcu cursus. Turpis cursus in hac habitasse platea dictumst quisque sagittis. Ullamcorper velit sed ullamcorper morbi tincidunt. Cursus risus at ultrices mi tempus imperdiet nulla. Imperdiet dui accumsan sit amet.\\\\n\\\\nUrna nunc id cursus metus aliquam eleifend mi in nulla. Euismod nisi porta lorem mollis. Nulla porttitor massa id neque aliquam vestibulum morbi blandit cursus. Amet volutpat consequat mauris nunc congue nisi vitae suscipit tellus. Ac tincidunt vitae semper quis lectus nulla at volutpat diam. Ut tristique et egestas quis ipsum suspendisse ultrices gravida. Etiam dignissim diam quis enim. Ut diam quam nulla porttitor massa. Maecenas pharetra convallis posuere morbi leo urna molestie at. Proin libero nunc consequat interdum varius sit amet mattis vulputate. Egestas diam in arcu cursus euismod. Dui faucibus in ornare quam viverra. Risus nullam eget felis eget nunc lobortis. Senectus et netus et malesuada fames ac turpis. Vitae elementum curabitur vitae nunc. Arcu vitae elementum curabitur vitae nunc sed velit dignissim. Fermentum iaculis eu non diam phasellus vestibulum lorem. Facilisis gravida neque convallis a cras semper auctor neque. Sed sed risus pretium quam. Non odio euismod lacinia at quis risus.\\\",\\\"name\\\":\\\"textField0\\\"}]]}\",\n",
      "            \"category\": \"\\u0411\\u043b\\u043e\\u0433\\u0438\",\n",
      "            \"tags\": \"[\\\"\\u0422\\u0435\\u043a\\u0441\\u0442\\\", \\\"\\u0429\\u0443\\u043a\\u0430\\\"]\",\n",
      "            \"moderator_like\": false\n",
      "        }\n",
      "    ]\n",
      "}\n"
     ]
    }
   ],
   "source": [
    "r = requests.get('https://back.fishow.ru/api/user/created/blogs/', auth=(username, password))\n",
    "print('status code: {}'.format(r.status_code))\n",
    "print('json response:')\n",
    "print('======================================')\n",
    "print(dumps(r.json(), indent=4))"
   ]
  },
  {
   "cell_type": "markdown",
   "metadata": {},
   "source": [
    "# Получаем список лайкнутых юзером комментариев всех статей"
   ]
  },
  {
   "cell_type": "code",
   "execution_count": 31,
   "metadata": {},
   "outputs": [
    {
     "name": "stdout",
     "output_type": "stream",
     "text": [
      "status code: 200\n",
      "json response:\n",
      "======================================\n",
      "{\n",
      "    \"count\": 1,\n",
      "    \"next\": null,\n",
      "    \"previous\": null,\n",
      "    \"results\": [\n",
      "        {\n",
      "            \"id\": 3,\n",
      "            \"author\": \"irnbru007\",\n",
      "            \"created_at\": \"February 27, 2021\",\n",
      "            \"likes_count\": 2,\n",
      "            \"dislikes_count\": 0,\n",
      "            \"user_has_votedUp\": true,\n",
      "            \"user_has_votedDown\": false,\n",
      "            \"comments_slug\": \"4564-hdcqty\",\n",
      "            \"body\": \"\\u044f\\u0447\\u0441\\u0427\\u041c\\u044f\\u0447\\u043c\\u044f\\u0447\"\n",
      "        }\n",
      "    ]\n",
      "}\n"
     ]
    }
   ],
   "source": [
    "r = requests.get('https://back.fishow.ru/api/user/liked/blogs/comment/', auth=(username, password))\n",
    "print('status code: {}'.format(r.status_code))\n",
    "print('json response:')\n",
    "print('======================================')\n",
    "print(dumps(r.json(), indent=4))"
   ]
  },
  {
   "cell_type": "markdown",
   "metadata": {},
   "source": [
    "# Получаем список созданных юзером комментариев всех статей"
   ]
  },
  {
   "cell_type": "code",
   "execution_count": 7,
   "metadata": {},
   "outputs": [
    {
     "name": "stdout",
     "output_type": "stream",
     "text": [
      "status code: 200\n",
      "json response:\n",
      "======================================\n",
      "{\n",
      "    \"count\": 1,\n",
      "    \"next\": null,\n",
      "    \"previous\": null,\n",
      "    \"results\": [\n",
      "        {\n",
      "            \"id\": 2,\n",
      "            \"author\": \"tam2511\",\n",
      "            \"created_at\": \"February 24, 2021\",\n",
      "            \"likes_count\": 0,\n",
      "            \"dislikes_count\": 0,\n",
      "            \"user_has_votedUp\": false,\n",
      "            \"user_has_votedDown\": false,\n",
      "            \"comments_slug\": \"kak-lovit-ryibu-chast-1-q0bsid\",\n",
      "            \"body\": \"\\u041f\\u043e\\u043a\\u0430!\"\n",
      "        }\n",
      "    ]\n",
      "}\n"
     ]
    }
   ],
   "source": [
    "r = requests.get('https://back.fishow.ru/api/user/created/blogs/comment/', auth=(username, password))\n",
    "print('status code: {}'.format(r.status_code))\n",
    "print('json response:')\n",
    "print('======================================')\n",
    "print(dumps(r.json(), indent=4))"
   ]
  },
  {
   "cell_type": "markdown",
   "metadata": {},
   "source": [
    "# Создание 1000 юзеров"
   ]
  },
  {
   "cell_type": "code",
   "execution_count": 3,
   "metadata": {},
   "outputs": [
    {
     "data": {
      "application/vnd.jupyter.widget-view+json": {
       "model_id": "9f333daf1388470993aea53b22656075",
       "version_major": 2,
       "version_minor": 0
      },
      "text/plain": [
       "HBox(children=(FloatProgress(value=0.0), HTML(value='')))"
      ]
     },
     "metadata": {},
     "output_type": "display_data"
    },
    {
     "name": "stdout",
     "output_type": "stream",
     "text": [
      "\n"
     ]
    },
    {
     "data": {
      "image/png": "[encoded data removed]",
      "text/plain": [
       "<Figure size 432x288 with 1 Axes>"
      ]
     },
     "metadata": {
      "needs_background": "light"
     },
     "output_type": "display_data"
    }
   ],
   "source": [
    "data = [\n",
    "    {\n",
    "        'username': 'test_{}'.format(i),\n",
    "        'email': 'test_{}@mail.ru'.format(i),\n",
    "        'password1': '081099asd',\n",
    "        'password2': '081099asd'\n",
    "    }\n",
    "    for i in range(100)\n",
    "]\n",
    "times = []\n",
    "for i in tqdm(range(len(data))):\n",
    "    st = time()\n",
    "    r = requests.post('https://back.fishow.ru/api/rest-auth/registration/', json=data[i])\n",
    "    times.append(time() - st)\n",
    "    if r.status_code != 201:\n",
    "        print(r)\n",
    "        print('Error during registration: {}'.format(data[i]))\n",
    "        break\n",
    "if len(times) == 100:\n",
    "    plt.plot(list(range(1, 101)), times)\n",
    "    plt.title(\"Зависимость времени запроса при регистрации от числа пользователй\")\n",
    "    plt.xlabel(\"Число пользователей\")\n",
    "    plt.ylabel(\"Время запроса\")\n",
    "    plt.show()"
   ]
  },
  {
   "cell_type": "markdown",
   "metadata": {},
   "source": [
    "# Создаем 1000 статей"
   ]
  },
  {
   "cell_type": "code",
   "execution_count": 9,
   "metadata": {},
   "outputs": [
    {
     "data": {
      "application/vnd.jupyter.widget-view+json": {
       "model_id": "697e21a798394d1794e129907798557c",
       "version_major": 2,
       "version_minor": 0
      },
      "text/plain": [
       "HBox(children=(FloatProgress(value=0.0), HTML(value='')))"
      ]
     },
     "metadata": {},
     "output_type": "display_data"
    },
    {
     "name": "stdout",
     "output_type": "stream",
     "text": [
      "\n"
     ]
    },
    {
     "ename": "ValueError",
     "evalue": "x and y must have same first dimension, but have shapes (1000,) and (100,)",
     "output_type": "error",
     "traceback": [
      "\u001b[1;31m---------------------------------------------------------------------------\u001b[0m",
      "\u001b[1;31mValueError\u001b[0m                                Traceback (most recent call last)",
      "\u001b[1;32m<ipython-input-9-d58a1ec505d9>\u001b[0m in \u001b[0;36m<module>\u001b[1;34m\u001b[0m\n\u001b[0;32m     19\u001b[0m         \u001b[1;32mbreak\u001b[0m\u001b[1;33m\u001b[0m\u001b[1;33m\u001b[0m\u001b[0m\n\u001b[0;32m     20\u001b[0m \u001b[1;32mif\u001b[0m \u001b[0mlen\u001b[0m\u001b[1;33m(\u001b[0m\u001b[0mtimes\u001b[0m\u001b[1;33m)\u001b[0m \u001b[1;33m==\u001b[0m \u001b[1;36m100\u001b[0m\u001b[1;33m:\u001b[0m\u001b[1;33m\u001b[0m\u001b[1;33m\u001b[0m\u001b[0m\n\u001b[1;32m---> 21\u001b[1;33m     \u001b[0mplt\u001b[0m\u001b[1;33m.\u001b[0m\u001b[0mplot\u001b[0m\u001b[1;33m(\u001b[0m\u001b[0mlist\u001b[0m\u001b[1;33m(\u001b[0m\u001b[0mrange\u001b[0m\u001b[1;33m(\u001b[0m\u001b[1;36m1\u001b[0m\u001b[1;33m,\u001b[0m \u001b[1;36m1001\u001b[0m\u001b[1;33m)\u001b[0m\u001b[1;33m)\u001b[0m\u001b[1;33m,\u001b[0m \u001b[0mtimes\u001b[0m\u001b[1;33m)\u001b[0m\u001b[1;33m\u001b[0m\u001b[1;33m\u001b[0m\u001b[0m\n\u001b[0m\u001b[0;32m     22\u001b[0m     \u001b[0mplt\u001b[0m\u001b[1;33m.\u001b[0m\u001b[0mtitle\u001b[0m\u001b[1;33m(\u001b[0m\u001b[1;34m\"Зависимость времени запроса при создании статьи от числа статей\"\u001b[0m\u001b[1;33m)\u001b[0m\u001b[1;33m\u001b[0m\u001b[1;33m\u001b[0m\u001b[0m\n\u001b[0;32m     23\u001b[0m     \u001b[0mplt\u001b[0m\u001b[1;33m.\u001b[0m\u001b[0mxlabel\u001b[0m\u001b[1;33m(\u001b[0m\u001b[1;34m\"Число статей\"\u001b[0m\u001b[1;33m)\u001b[0m\u001b[1;33m\u001b[0m\u001b[1;33m\u001b[0m\u001b[0m\n",
      "\u001b[1;32m~\\Anaconda3\\lib\\site-packages\\matplotlib\\pyplot.py\u001b[0m in \u001b[0;36mplot\u001b[1;34m(scalex, scaley, data, *args, **kwargs)\u001b[0m\n\u001b[0;32m   2794\u001b[0m     return gca().plot(\n\u001b[0;32m   2795\u001b[0m         *args, scalex=scalex, scaley=scaley, **({\"data\": data} if data\n\u001b[1;32m-> 2796\u001b[1;33m         is not None else {}), **kwargs)\n\u001b[0m\u001b[0;32m   2797\u001b[0m \u001b[1;33m\u001b[0m\u001b[0m\n\u001b[0;32m   2798\u001b[0m \u001b[1;33m\u001b[0m\u001b[0m\n",
      "\u001b[1;32m~\\Anaconda3\\lib\\site-packages\\matplotlib\\axes\\_axes.py\u001b[0m in \u001b[0;36mplot\u001b[1;34m(self, scalex, scaley, data, *args, **kwargs)\u001b[0m\n\u001b[0;32m   1663\u001b[0m         \"\"\"\n\u001b[0;32m   1664\u001b[0m         \u001b[0mkwargs\u001b[0m \u001b[1;33m=\u001b[0m \u001b[0mcbook\u001b[0m\u001b[1;33m.\u001b[0m\u001b[0mnormalize_kwargs\u001b[0m\u001b[1;33m(\u001b[0m\u001b[0mkwargs\u001b[0m\u001b[1;33m,\u001b[0m \u001b[0mmlines\u001b[0m\u001b[1;33m.\u001b[0m\u001b[0mLine2D\u001b[0m\u001b[1;33m.\u001b[0m\u001b[0m_alias_map\u001b[0m\u001b[1;33m)\u001b[0m\u001b[1;33m\u001b[0m\u001b[1;33m\u001b[0m\u001b[0m\n\u001b[1;32m-> 1665\u001b[1;33m         \u001b[0mlines\u001b[0m \u001b[1;33m=\u001b[0m \u001b[1;33m[\u001b[0m\u001b[1;33m*\u001b[0m\u001b[0mself\u001b[0m\u001b[1;33m.\u001b[0m\u001b[0m_get_lines\u001b[0m\u001b[1;33m(\u001b[0m\u001b[1;33m*\u001b[0m\u001b[0margs\u001b[0m\u001b[1;33m,\u001b[0m \u001b[0mdata\u001b[0m\u001b[1;33m=\u001b[0m\u001b[0mdata\u001b[0m\u001b[1;33m,\u001b[0m \u001b[1;33m**\u001b[0m\u001b[0mkwargs\u001b[0m\u001b[1;33m)\u001b[0m\u001b[1;33m]\u001b[0m\u001b[1;33m\u001b[0m\u001b[1;33m\u001b[0m\u001b[0m\n\u001b[0m\u001b[0;32m   1666\u001b[0m         \u001b[1;32mfor\u001b[0m \u001b[0mline\u001b[0m \u001b[1;32min\u001b[0m \u001b[0mlines\u001b[0m\u001b[1;33m:\u001b[0m\u001b[1;33m\u001b[0m\u001b[1;33m\u001b[0m\u001b[0m\n\u001b[0;32m   1667\u001b[0m             \u001b[0mself\u001b[0m\u001b[1;33m.\u001b[0m\u001b[0madd_line\u001b[0m\u001b[1;33m(\u001b[0m\u001b[0mline\u001b[0m\u001b[1;33m)\u001b[0m\u001b[1;33m\u001b[0m\u001b[1;33m\u001b[0m\u001b[0m\n",
      "\u001b[1;32m~\\Anaconda3\\lib\\site-packages\\matplotlib\\axes\\_base.py\u001b[0m in \u001b[0;36m__call__\u001b[1;34m(self, *args, **kwargs)\u001b[0m\n\u001b[0;32m    223\u001b[0m                 \u001b[0mthis\u001b[0m \u001b[1;33m+=\u001b[0m \u001b[0margs\u001b[0m\u001b[1;33m[\u001b[0m\u001b[1;36m0\u001b[0m\u001b[1;33m]\u001b[0m\u001b[1;33m,\u001b[0m\u001b[1;33m\u001b[0m\u001b[1;33m\u001b[0m\u001b[0m\n\u001b[0;32m    224\u001b[0m                 \u001b[0margs\u001b[0m \u001b[1;33m=\u001b[0m \u001b[0margs\u001b[0m\u001b[1;33m[\u001b[0m\u001b[1;36m1\u001b[0m\u001b[1;33m:\u001b[0m\u001b[1;33m]\u001b[0m\u001b[1;33m\u001b[0m\u001b[1;33m\u001b[0m\u001b[0m\n\u001b[1;32m--> 225\u001b[1;33m             \u001b[1;32myield\u001b[0m \u001b[1;32mfrom\u001b[0m \u001b[0mself\u001b[0m\u001b[1;33m.\u001b[0m\u001b[0m_plot_args\u001b[0m\u001b[1;33m(\u001b[0m\u001b[0mthis\u001b[0m\u001b[1;33m,\u001b[0m \u001b[0mkwargs\u001b[0m\u001b[1;33m)\u001b[0m\u001b[1;33m\u001b[0m\u001b[1;33m\u001b[0m\u001b[0m\n\u001b[0m\u001b[0;32m    226\u001b[0m \u001b[1;33m\u001b[0m\u001b[0m\n\u001b[0;32m    227\u001b[0m     \u001b[1;32mdef\u001b[0m \u001b[0mget_next_color\u001b[0m\u001b[1;33m(\u001b[0m\u001b[0mself\u001b[0m\u001b[1;33m)\u001b[0m\u001b[1;33m:\u001b[0m\u001b[1;33m\u001b[0m\u001b[1;33m\u001b[0m\u001b[0m\n",
      "\u001b[1;32m~\\Anaconda3\\lib\\site-packages\\matplotlib\\axes\\_base.py\u001b[0m in \u001b[0;36m_plot_args\u001b[1;34m(self, tup, kwargs)\u001b[0m\n\u001b[0;32m    389\u001b[0m             \u001b[0mx\u001b[0m\u001b[1;33m,\u001b[0m \u001b[0my\u001b[0m \u001b[1;33m=\u001b[0m \u001b[0mindex_of\u001b[0m\u001b[1;33m(\u001b[0m\u001b[0mtup\u001b[0m\u001b[1;33m[\u001b[0m\u001b[1;33m-\u001b[0m\u001b[1;36m1\u001b[0m\u001b[1;33m]\u001b[0m\u001b[1;33m)\u001b[0m\u001b[1;33m\u001b[0m\u001b[1;33m\u001b[0m\u001b[0m\n\u001b[0;32m    390\u001b[0m \u001b[1;33m\u001b[0m\u001b[0m\n\u001b[1;32m--> 391\u001b[1;33m         \u001b[0mx\u001b[0m\u001b[1;33m,\u001b[0m \u001b[0my\u001b[0m \u001b[1;33m=\u001b[0m \u001b[0mself\u001b[0m\u001b[1;33m.\u001b[0m\u001b[0m_xy_from_xy\u001b[0m\u001b[1;33m(\u001b[0m\u001b[0mx\u001b[0m\u001b[1;33m,\u001b[0m \u001b[0my\u001b[0m\u001b[1;33m)\u001b[0m\u001b[1;33m\u001b[0m\u001b[1;33m\u001b[0m\u001b[0m\n\u001b[0m\u001b[0;32m    392\u001b[0m \u001b[1;33m\u001b[0m\u001b[0m\n\u001b[0;32m    393\u001b[0m         \u001b[1;32mif\u001b[0m \u001b[0mself\u001b[0m\u001b[1;33m.\u001b[0m\u001b[0mcommand\u001b[0m \u001b[1;33m==\u001b[0m \u001b[1;34m'plot'\u001b[0m\u001b[1;33m:\u001b[0m\u001b[1;33m\u001b[0m\u001b[1;33m\u001b[0m\u001b[0m\n",
      "\u001b[1;32m~\\Anaconda3\\lib\\site-packages\\matplotlib\\axes\\_base.py\u001b[0m in \u001b[0;36m_xy_from_xy\u001b[1;34m(self, x, y)\u001b[0m\n\u001b[0;32m    268\u001b[0m         \u001b[1;32mif\u001b[0m \u001b[0mx\u001b[0m\u001b[1;33m.\u001b[0m\u001b[0mshape\u001b[0m\u001b[1;33m[\u001b[0m\u001b[1;36m0\u001b[0m\u001b[1;33m]\u001b[0m \u001b[1;33m!=\u001b[0m \u001b[0my\u001b[0m\u001b[1;33m.\u001b[0m\u001b[0mshape\u001b[0m\u001b[1;33m[\u001b[0m\u001b[1;36m0\u001b[0m\u001b[1;33m]\u001b[0m\u001b[1;33m:\u001b[0m\u001b[1;33m\u001b[0m\u001b[1;33m\u001b[0m\u001b[0m\n\u001b[0;32m    269\u001b[0m             raise ValueError(\"x and y must have same first dimension, but \"\n\u001b[1;32m--> 270\u001b[1;33m                              \"have shapes {} and {}\".format(x.shape, y.shape))\n\u001b[0m\u001b[0;32m    271\u001b[0m         \u001b[1;32mif\u001b[0m \u001b[0mx\u001b[0m\u001b[1;33m.\u001b[0m\u001b[0mndim\u001b[0m \u001b[1;33m>\u001b[0m \u001b[1;36m2\u001b[0m \u001b[1;32mor\u001b[0m \u001b[0my\u001b[0m\u001b[1;33m.\u001b[0m\u001b[0mndim\u001b[0m \u001b[1;33m>\u001b[0m \u001b[1;36m2\u001b[0m\u001b[1;33m:\u001b[0m\u001b[1;33m\u001b[0m\u001b[1;33m\u001b[0m\u001b[0m\n\u001b[0;32m    272\u001b[0m             raise ValueError(\"x and y can be no greater than 2-D, but have \"\n",
      "\u001b[1;31mValueError\u001b[0m: x and y must have same first dimension, but have shapes (1000,) and (100,)"
     ]
    },
    {
     "data": {
      "image/png": "[encoded data removed]",
      "text/plain": [
       "<Figure size 432x288 with 1 Axes>"
      ]
     },
     "metadata": {
      "needs_background": "light"
     },
     "output_type": "display_data"
    }
   ],
   "source": [
    "content = \"{\\\"blocks\\\":[[{\\\"type\\\":\\\"text\\\",\\\"body\\\":\\\"Lorem ipsum dolor sit amet, consectetur adipiscing elit, sed do eiusmod tempor incididunt ut labore et dolore magna aliqua. Tortor at auctor urna nunc id cursus. Sodales neque sodales ut etiam sit amet. Quis hendrerit dolor magna eget est lorem ipsum dolor. Mauris a diam maecenas sed enim ut sem. Maecenas sed enim ut sem viverra aliquet eget sit. Tempor nec feugiat nisl pretium fusce id velit. Aliquam sem fringilla ut morbi. Volutpat commodo sed egestas egestas fringilla phasellus faucibus scelerisque. Mollis aliquam ut porttitor leo a. Ipsum consequat nisl vel pretium lectus quam id. Sed risus ultricies tristique nulla aliquet enim tortor. Semper quis lectus nulla at volutpat diam ut.\\\\n\\\\nGravida quis blandit turpis cursus. Massa massa ultricies mi quis hendrerit dolor magna. Tincidunt eget nullam non nisi est. Et ligula ullamcorper malesuada proin libero nunc consequat. Id aliquet lectus proin nibh nisl. Viverra nam libero justo laoreet sit. Viverra accumsan in nisl nisi scelerisque eu ultrices vitae auctor. Venenatis urna cursus eget nunc scelerisque viverra mauris in aliquam. Vulputate odio ut enim blandit volutpat maecenas volutpat blandit. Et netus et malesuada fames ac turpis egestas integer. Vel facilisis volutpat est velit egestas dui id. Id cursus metus aliquam eleifend mi in. Sed risus ultricies tristique nulla aliquet enim. Id diam maecenas ultricies mi eget mauris pharetra. At volutpat diam ut venenatis tellus in. In aliquam sem fringilla ut morbi. Habitasse platea dictumst quisque sagittis. Egestas integer eget aliquet nibh praesent. Nec feugiat nisl pretium fusce.\\\\n\\\\nAuctor neque vitae tempus quam pellentesque nec nam aliquam sem. Nibh venenatis cras sed felis. Eget mi proin sed libero enim. Sagittis orci a scelerisque purus semper eget duis at. Platea dictumst vestibulum rhoncus est pellentesque elit ullamcorper dignissim. Ultricies integer quis auctor elit sed vulputate mi sit. Velit sed ullamcorper morbi tincidunt ornare massa eget egestas purus. Id interdum velit laoreet id donec ultrices tincidunt arcu non. At urna condimentum mattis pellentesque id nibh tortor id. Volutpat maecenas volutpat blandit aliquam etiam. Purus viverra accumsan in nisl. Pellentesque eu tincidunt tortor aliquam nulla facilisi cras fermentum odio. Donec massa sapien faucibus et molestie ac. Massa tempor nec feugiat nisl pretium. Cras semper auctor neque vitae tempus quam pellentesque. Aliquet porttitor lacus luctus accumsan tortor posuere ac ut consequat. Lobortis feugiat vivamus at augue eget arcu dictum varius. In tellus integer feugiat scelerisque varius. Sed arcu non odio euismod lacinia.\\\\n\\\\nUltricies mi eget mauris pharetra. Fermentum dui faucibus in ornare. Dis parturient montes nascetur ridiculus mus. Dis parturient montes nascetur ridiculus mus. Morbi non arcu risus quis varius quam quisque id. Nullam vehicula ipsum a arcu cursus vitae congue mauris rhoncus. Curabitur gravida arcu ac tortor dignissim. Malesuada pellentesque elit eget gravida cum sociis natoque penatibus et. Nullam vehicula ipsum a arcu cursus. Turpis cursus in hac habitasse platea dictumst quisque sagittis. Ullamcorper velit sed ullamcorper morbi tincidunt. Cursus risus at ultrices mi tempus imperdiet nulla. Imperdiet dui accumsan sit amet.\\\\n\\\\nUrna nunc id cursus metus aliquam eleifend mi in nulla. Euismod nisi porta lorem mollis. Nulla porttitor massa id neque aliquam vestibulum morbi blandit cursus. Amet volutpat consequat mauris nunc congue nisi vitae suscipit tellus. Ac tincidunt vitae semper quis lectus nulla at volutpat diam. Ut tristique et egestas quis ipsum suspendisse ultrices gravida. Etiam dignissim diam quis enim. Ut diam quam nulla porttitor massa. Maecenas pharetra convallis posuere morbi leo urna molestie at. Proin libero nunc consequat interdum varius sit amet mattis vulputate. Egestas diam in arcu cursus euismod. Dui faucibus in ornare quam viverra. Risus nullam eget felis eget nunc lobortis. Senectus et netus et malesuada fames ac turpis. Vitae elementum curabitur vitae nunc. Arcu vitae elementum curabitur vitae nunc sed velit dignissim. Fermentum iaculis eu non diam phasellus vestibulum lorem. Facilisis gravida neque convallis a cras semper auctor neque. Sed sed risus pretium quam. Non odio euismod lacinia at quis risus.\\\",\\\"name\\\":\\\"textField0\\\"}]]}\"\n",
    "tags = \"[\\\"Текст\\\", \\\"Щука\\\"]\"\n",
    "category = \"Блоги\"\n",
    "times = []\n",
    "num = 100\n",
    "for i in tqdm(range(num)):\n",
    "    st = time()\n",
    "    data = {\n",
    "        'content': content,\n",
    "        'tags': tags,\n",
    "        'category': category,\n",
    "        'title': 'Test {}'.format(i)\n",
    "    }\n",
    "    r = requests.post('https://back.fishow.ru/api/blogs/', json=data, auth=('test_{}'.format(randint(1, 50)), '081099asd'))\n",
    "    times.append(time() - st)\n",
    "    if r.status_code != 201:\n",
    "        print(r)\n",
    "        print('Error during creating blog: {}'.format(i))\n",
    "        break\n",
    "if len(times) == 100:\n",
    "    plt.plot(list(range(1, 101)), times)\n",
    "    plt.title(\"Зависимость времени запроса при создании статьи от числа статей\")\n",
    "    plt.xlabel(\"Число статей\")\n",
    "    plt.ylabel(\"Время запроса\")\n",
    "    plt.show()        "
   ]
  },
  {
   "cell_type": "markdown",
   "metadata": {},
   "source": [
    "# Лайкаем случайные статьи случайными пользователями 10000 раз"
   ]
  },
  {
   "cell_type": "code",
   "execution_count": 11,
   "metadata": {},
   "outputs": [
    {
     "data": {
      "application/vnd.jupyter.widget-view+json": {
       "model_id": "318d75be79c5444baee6f508965935e7",
       "version_major": 2,
       "version_minor": 0
      },
      "text/plain": [
       "HBox(children=(FloatProgress(value=0.0, max=1000.0), HTML(value='')))"
      ]
     },
     "metadata": {},
     "output_type": "display_data"
    }
   ],
   "source": [
    "users = [('test_{}'.format(i), '081099asd') for i in range(100)]\n",
    "# получаем слаги всех статей\n",
    "current_url = 'https://back.fishow.ru/api/blogs/'\n",
    "slugs = []\n",
    "for i in tqdm(range(1000)):\n",
    "    r = requests.get(current_url)\n",
    "    data = [_['slug'] for _ in r.json()['results']]\n",
    "    slugs += data\n",
    "    if not 'next' in r.json():\n",
    "        break\n",
    "    current_url = r.json()['next']\n",
    "    if not current_url:\n",
    "        break"
   ]
  },
  {
   "cell_type": "code",
   "execution_count": 12,
   "metadata": {},
   "outputs": [
    {
     "data": {
      "application/vnd.jupyter.widget-view+json": {
       "model_id": "981f467a07a44e2c9cadac9554ea25d0",
       "version_major": 2,
       "version_minor": 0
      },
      "text/plain": [
       "HBox(children=(FloatProgress(value=0.0, max=1000.0), HTML(value='')))"
      ]
     },
     "metadata": {},
     "output_type": "display_data"
    },
    {
     "name": "stdout",
     "output_type": "stream",
     "text": [
      "\n"
     ]
    }
   ],
   "source": [
    "times = []\n",
    "for i in tqdm(range(1000)):\n",
    "    user = choice(users)\n",
    "    article = choice(slugs)\n",
    "    url = 'https://back.fishow.ru/api/blogs/{}/like/'.format(article)\n",
    "    st = time()\n",
    "    r = requests.post(url, auth=user)\n",
    "    times.append(time() - st)\n",
    "    if r.status_code != 200:\n",
    "        print(r)\n",
    "        print('Error during liking blog {} by user {}'.format(article, user))\n",
    "        "
   ]
  },
  {
   "cell_type": "code",
   "execution_count": 39,
   "metadata": {},
   "outputs": [
    {
     "name": "stdout",
     "output_type": "stream",
     "text": [
      "200\n",
      "[{'count_user': 1010}]\n",
      "Wall time: 118 ms\n"
     ]
    }
   ],
   "source": [
    "%%time\n",
    "r = requests.get('https://back.fishow.ru/api/count/user/')\n",
    "print(r.status_code)\n",
    "print(r.json())"
   ]
  },
  {
   "cell_type": "code",
   "execution_count": null,
   "metadata": {},
   "outputs": [],
   "source": []
  }
 ],
 "metadata": {
  "kernelspec": {
   "display_name": "Python 3",
   "language": "python",
   "name": "python3"
  },
  "language_info": {
   "codemirror_mode": {
    "name": "ipython",
    "version": 3
   },
   "file_extension": ".py",
   "mimetype": "text/x-python",
   "name": "python",
   "nbconvert_exporter": "python",
   "pygments_lexer": "ipython3",
   "version": "3.7.4"
  }
 },
 "nbformat": 4,
 "nbformat_minor": 2
}
